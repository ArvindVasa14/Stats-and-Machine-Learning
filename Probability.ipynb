{
 "cells": [
  {
   "cell_type": "code",
   "execution_count": 31,
   "id": "68a2d100",
   "metadata": {},
   "outputs": [],
   "source": [
    "import numpy as np\n",
    "import random\n",
    "import matplotlib.pyplot as plt\n",
    "import seaborn as sns"
   ]
  },
  {
   "cell_type": "code",
   "execution_count": 39,
   "id": "2617a07a",
   "metadata": {},
   "outputs": [],
   "source": [
    "# function for rolling dice\n",
    "def roll_the_dice(n_simulation= 10000):\n",
    "    count=0\n",
    "    for i in range(n_simulation):\n",
    "        # Roll the dies\n",
    "        die1= random.randint(1,6)\n",
    "        die2= random.randint(1,6)\n",
    "        \n",
    "        score= die1+ die2\n",
    "        if( score %2==0 or score>7):\n",
    "            count+=1\n",
    "            \n",
    "    return count/n_simulation;"
   ]
  },
  {
   "cell_type": "code",
   "execution_count": 40,
   "id": "75d23f81",
   "metadata": {},
   "outputs": [
    {
     "name": "stdout",
     "output_type": "stream",
     "text": [
      "The probability of rolling an even number or greater than 7 is: 67.43 %\n",
      "The probability of rolling an even number or greater than 7 is: 66.0 %\n",
      "The probability of rolling an even number or greater than 7 is: 66.53 %\n",
      "The probability of rolling an even number or greater than 7 is: 67.09 %\n",
      "The probability of rolling an even number or greater than 7 is: 66.04 %\n",
      "The probability of rolling an even number or greater than 7 is: 66.03 %\n",
      "The probability of rolling an even number or greater than 7 is: 66.51 %\n",
      "The probability of rolling an even number or greater than 7 is: 66.91 %\n",
      "The probability of rolling an even number or greater than 7 is: 65.88 %\n",
      "The probability of rolling an even number or greater than 7 is: 66.39 %\n",
      "The probability of rolling an even number or greater than 7 is: 67.12 %\n",
      "The probability of rolling an even number or greater than 7 is: 67.23 %\n",
      "The probability of rolling an even number or greater than 7 is: 66.36 %\n",
      "The probability of rolling an even number or greater than 7 is: 66.67 %\n",
      "The probability of rolling an even number or greater than 7 is: 67.78 %\n",
      "The probability of rolling an even number or greater than 7 is: 65.99 %\n",
      "The probability of rolling an even number or greater than 7 is: 66.38 %\n",
      "The probability of rolling an even number or greater than 7 is: 66.61 %\n",
      "The probability of rolling an even number or greater than 7 is: 66.52 %\n",
      "The probability of rolling an even number or greater than 7 is: 66.45 %\n",
      "The probability of rolling an even number or greater than 7 is: 66.75 %\n",
      "The probability of rolling an even number or greater than 7 is: 66.66 %\n",
      "The probability of rolling an even number or greater than 7 is: 67.64 %\n",
      "The probability of rolling an even number or greater than 7 is: 66.62 %\n",
      "The probability of rolling an even number or greater than 7 is: 66.39 %\n",
      "The probability of rolling an even number or greater than 7 is: 66.4 %\n",
      "The probability of rolling an even number or greater than 7 is: 65.58 %\n",
      "The probability of rolling an even number or greater than 7 is: 66.28 %\n",
      "The probability of rolling an even number or greater than 7 is: 66.67 %\n",
      "The probability of rolling an even number or greater than 7 is: 66.54 %\n",
      "The probability of rolling an even number or greater than 7 is: 66.49 %\n",
      "The probability of rolling an even number or greater than 7 is: 66.69 %\n",
      "The probability of rolling an even number or greater than 7 is: 67.01 %\n",
      "The probability of rolling an even number or greater than 7 is: 66.68 %\n",
      "The probability of rolling an even number or greater than 7 is: 66.3 %\n",
      "The probability of rolling an even number or greater than 7 is: 66.94 %\n",
      "The probability of rolling an even number or greater than 7 is: 66.9 %\n",
      "The probability of rolling an even number or greater than 7 is: 66.61 %\n",
      "The probability of rolling an even number or greater than 7 is: 66.54 %\n",
      "The probability of rolling an even number or greater than 7 is: 66.35 %\n",
      "The probability of rolling an even number or greater than 7 is: 66.62 %\n",
      "The probability of rolling an even number or greater than 7 is: 67.09 %\n",
      "The probability of rolling an even number or greater than 7 is: 67.07 %\n",
      "The probability of rolling an even number or greater than 7 is: 67.21 %\n",
      "The probability of rolling an even number or greater than 7 is: 66.91 %\n",
      "The probability of rolling an even number or greater than 7 is: 65.99 %\n",
      "The probability of rolling an even number or greater than 7 is: 66.62 %\n",
      "The probability of rolling an even number or greater than 7 is: 66.53 %\n",
      "The probability of rolling an even number or greater than 7 is: 66.97 %\n",
      "The probability of rolling an even number or greater than 7 is: 67.09 %\n"
     ]
    },
    {
     "data": {
      "text/plain": [
       "0.666412"
      ]
     },
     "execution_count": 40,
     "metadata": {},
     "output_type": "execute_result"
    }
   ],
   "source": [
    "probs=[]\n",
    "for i in range(50):\n",
    "    string =\"The probability of rolling an even number or greater than 7 is:\"\n",
    "    r_val= roll_the_dice()\n",
    "    probs.append(r_val)\n",
    "    print(string,np.round(r_val*100,2),'%')\n",
    "np.array(probs).mean()"
   ]
  },
  {
   "cell_type": "code",
   "execution_count": 41,
   "id": "e4b968ea",
   "metadata": {},
   "outputs": [
    {
     "name": "stderr",
     "output_type": "stream",
     "text": [
      "C:\\Users\\Arvind Vasa\\AppData\\Local\\Temp\\ipykernel_9580\\3482290606.py:1: UserWarning: \n",
      "\n",
      "`distplot` is a deprecated function and will be removed in seaborn v0.14.0.\n",
      "\n",
      "Please adapt your code to use either `displot` (a figure-level function with\n",
      "similar flexibility) or `histplot` (an axes-level function for histograms).\n",
      "\n",
      "For a guide to updating your code to use the new functions, please see\n",
      "https://gist.github.com/mwaskom/de44147ed2974457ad6372750bbe5751\n",
      "\n",
      "  sns.distplot(probs)\n"
     ]
    },
    {
     "data": {
      "text/plain": [
       "<Axes: ylabel='Density'>"
      ]
     },
     "execution_count": 41,
     "metadata": {},
     "output_type": "execute_result"
    },
    {
     "data": {
      "image/png": "[encoded data removed]",
      "text/plain": [
       "<Figure size 640x480 with 1 Axes>"
      ]
     },
     "metadata": {},
     "output_type": "display_data"
    }
   ],
   "source": [
    "sns.distplot(probs)"
   ]
  },
  {
   "cell_type": "code",
   "execution_count": 51,
   "id": "4d1bb717",
   "metadata": {},
   "outputs": [
    {
     "name": "stdout",
     "output_type": "stream",
     "text": [
      "['A', 'A', 'A', 'A', 'A', 'A', 'A', 'A', 'A', 'A', 'A', 'A', 'B', 'B', 'B', 'B', 'B', 'B', 'B', 'B', 'B', 'B', 'B', 'B', 'B', 'B', 'B', 'B', 'B', 'B']\n"
     ]
    }
   ],
   "source": [
    "import random\n",
    "\n",
    "trails= 1000\n",
    "totalA= 12\n",
    "totalB= 18\n",
    "\n",
    "count= 0\n",
    "\n",
    "choicelist= list(\"A\"*totalA + \"B\"*totalB)\n",
    "print(choicelist)"
   ]
  },
  {
   "cell_type": "code",
   "execution_count": 43,
   "id": "ecd68185",
   "metadata": {},
   "outputs": [],
   "source": [
    "def transistor():\n",
    "    return random.choice(choicelist)"
   ]
  },
  {
   "cell_type": "code",
   "execution_count": 52,
   "id": "580000a8",
   "metadata": {},
   "outputs": [
    {
     "name": "stdout",
     "output_type": "stream",
     "text": [
      "0.226\n"
     ]
    }
   ],
   "source": [
    "for i in range(trails):\n",
    "    try1= transistor()\n",
    "    try2= transistor()\n",
    "    if try1=='A' and try2=='B':\n",
    "        count+=1\n",
    "\n",
    "print(float(count)/trails)"
   ]
  },
  {
   "cell_type": "code",
   "execution_count": null,
   "id": "4528c009",
   "metadata": {},
   "outputs": [],
   "source": []
  }
 ],
 "metadata": {
  "kernelspec": {
   "display_name": "Python 3 (ipykernel)",
   "language": "python",
   "name": "python3"
  },
  "language_info": {
   "codemirror_mode": {
    "name": "ipython",
    "version": 3
   },
   "file_extension": ".py",
   "mimetype": "text/x-python",
   "name": "python",
   "nbconvert_exporter": "python",
   "pygments_lexer": "ipython3",
   "version": "3.10.9"
  }
 },
 "nbformat": 4,
 "nbformat_minor": 5
}
