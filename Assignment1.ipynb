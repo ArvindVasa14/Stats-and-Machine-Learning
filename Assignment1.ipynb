{
 "cells": [
  {
   "cell_type": "markdown",
   "id": "6a19b5f7",
   "metadata": {},
   "source": [
    "## Question"
   ]
  },
  {
   "cell_type": "code",
   "execution_count": 177,
   "id": "03fcaaf7",
   "metadata": {},
   "outputs": [],
   "source": [
    "# Write a Python Program for the calculations of Point Estimates,Interval Estimates and\n",
    "# Hypothesis Testing.\n"
   ]
  },
  {
   "cell_type": "markdown",
   "id": "a94037b4",
   "metadata": {},
   "source": [
    "## Solution"
   ]
  },
  {
   "cell_type": "code",
   "execution_count": 178,
   "id": "42134740",
   "metadata": {},
   "outputs": [],
   "source": [
    "import numpy as np\n",
    "import pandas as pd\n",
    "import matplotlib.pyplot as plt\n",
    "import seaborn as sns\n",
    "import math"
   ]
  },
  {
   "cell_type": "markdown",
   "id": "223b3868",
   "metadata": {},
   "source": [
    "#### function \"Calc_PE_IE\" calculates Point Estimate and Interval Estimate"
   ]
  },
  {
   "cell_type": "code",
   "execution_count": 179,
   "id": "2f08781b",
   "metadata": {},
   "outputs": [],
   "source": [
    "def Calc_PE_IE(Sample_size,Sample_mean,Std_dev,alpha):\n",
    "    if Sample_size>=30:   # Z distribution\n",
    "        print(\"The data follows Z distribution with\") \n",
    "        Point_estimate= Sample_mean\n",
    "        Margin_of_error = z_tables[alpha] * (Std_dev/ math.sqrt(Sample_size))\n",
    "        Interval_estimate= (Point_estimate + Margin_of_error), (Point_estimate - Margin_of_error)\n",
    "\n",
    "    elif Sample_size>0 and Sample_size<30: # T distribution\n",
    "        print(\"The data follows T distribution with\")\n",
    "        Point_estimate= Sample_mean\n",
    "        degree_of_freedom= Sample_size-1\n",
    "        Margin_of_error = t_tables[alpha][degree_of_freedom] * (Std_dev/ math.sqrt(Sample_size))\n",
    "        Interval_estimate= (Point_estimate + Margin_of_error), (Point_estimate - Margin_of_error)\n",
    "        \n",
    "    return Point_estimate,Interval_estimate"
   ]
  },
  {
   "cell_type": "markdown",
   "id": "f04eabeb",
   "metadata": {},
   "source": [
    "#### function \"Hypothesis_test\" calculates z-statistic and judges about the hypotheses"
   ]
  },
  {
   "cell_type": "code",
   "execution_count": 180,
   "id": "2d830e0c",
   "metadata": {},
   "outputs": [],
   "source": [
    "def Hypothesis_test(Sample_mean, Population_mean, Std_dev, Sample_size, Significance_level):\n",
    "\n",
    "    Z_stat= (Sample_mean- Population_mean)/ (Std_dev/math.sqrt(Sample_size))\n",
    "    if Z_stat> z_tables[Significance_level]:\n",
    "        Hypothesis_status= 'Null Hypothesis rejected, with {}% Confidence'.format((1-(Significance_level*2))*100)\n",
    "    else:\n",
    "        Hypothesis_status= 'Null Hypothesis Accepted, with {}% Confidence'.format((1-(Significance_level*2))*100)\n",
    "    print(\"Z statistic : \",Z_stat)\n",
    "\n",
    "    return Hypothesis_status, Z_stat"
   ]
  },
  {
   "cell_type": "code",
   "execution_count": 181,
   "id": "9e6a0f22",
   "metadata": {},
   "outputs": [],
   "source": [
    "def estimates(csv_file,Population_mean=0, Sample_mean=0, Sample_size=0, Std_dev=0, csv_flag = 0):\n",
    "    \n",
    "    alpha= 0.025\n",
    "    \n",
    "    if(csv_flag==1):\n",
    "        Sample_data= pd.read_csv(csv_file)\n",
    "        Sample_mean= Sample_data['New'].mean()\n",
    "        Std_dev= Sample_data['New'].std()\n",
    "        Sample_size= Sample_data['New'].count()\n",
    "        Point_estimate,Interval_estimate= Calc_PE_IE(Sample_size,Sample_mean,Std_dev,alpha)\n",
    "        Hypothesis, Z_stat= Hypothesis_test(Sample_mean, Sample_data['Current'].mean(), Std_dev, Sample_size, alpha)\n",
    "       \n",
    "    else:\n",
    "        Point_estimate,Interval_estimate= Calc_PE_IE(Sample_size,Sample_mean,Std_dev,alpha)\n",
    "        Hypothesis=Hypothesis_test(Sample_mean, Population_mean, Std_dev, Sample_size, alpha)\n",
    "            \n",
    "    return Point_estimate,Interval_estimate,Hypothesis"
   ]
  },
  {
   "cell_type": "code",
   "execution_count": 182,
   "id": "2181991f",
   "metadata": {},
   "outputs": [],
   "source": [
    "z_tables= {0.05 : 1.64, 0.025 : 1.96}\n",
    "t_tables={0.05:{10:1.75,20:1.987,40:2.021}} \n",
    "csv_path= r\"C:\\Users\\Arvind Vasa\\AI & ML\\stats and ML\\Assignments utkarsh k\\estimate.csv\""
   ]
  },
  {
   "cell_type": "markdown",
   "id": "4d6d165c",
   "metadata": {},
   "source": [
    "### Using user provided data"
   ]
  },
  {
   "cell_type": "code",
   "execution_count": 185,
   "id": "f7bd61cd",
   "metadata": {},
   "outputs": [
    {
     "name": "stdout",
     "output_type": "stream",
     "text": [
      "The data follows Z distribution with\n",
      "Z statistic :  0.0\n",
      "PE is  100\n",
      "IE is  (102.77185858225127, 97.22814141774873)\n",
      "('Null Hypothesis Accepted, with 95.0% Confidence', 0.0)\n"
     ]
    }
   ],
   "source": [
    "Point_estimate,Interval_estimate,Hypothesis= estimates(csv_path,100, 100, 50, 10)\n",
    "print(\"PE is \", Point_estimate)\n",
    "print(\"IE is \", Interval_estimate)\n",
    "print(Hypothesis)"
   ]
  },
  {
   "cell_type": "markdown",
   "id": "31ff1f4a",
   "metadata": {},
   "source": [
    "### Using CSV file"
   ]
  },
  {
   "cell_type": "code",
   "execution_count": 186,
   "id": "f17f6c88",
   "metadata": {},
   "outputs": [
    {
     "name": "stdout",
     "output_type": "stream",
     "text": [
      "The data follows Z distribution with\n",
      "Z statistic :  -1.7733465125020238\n",
      "PE is  267.5\n",
      "IE is  (270.56708246902406, 264.43291753097594)\n",
      "Null Hypothesis Accepted, with 95.0% Confidence\n"
     ]
    }
   ],
   "source": [
    "Point_estimate,Interval_estimate,Hypothesis= estimates(csv_path,csv_flag=1)\n",
    "print(\"PE is \", Point_estimate)\n",
    "print(\"IE is \", Interval_estimate)\n",
    "print(Hypothesis)"
   ]
  },
  {
   "cell_type": "code",
   "execution_count": null,
   "id": "f3b8325d",
   "metadata": {},
   "outputs": [],
   "source": []
  }
 ],
 "metadata": {
  "kernelspec": {
   "display_name": "Python 3 (ipykernel)",
   "language": "python",
   "name": "python3"
  },
  "language_info": {
   "codemirror_mode": {
    "name": "ipython",
    "version": 3
   },
   "file_extension": ".py",
   "mimetype": "text/x-python",
   "name": "python",
   "nbconvert_exporter": "python",
   "pygments_lexer": "ipython3",
   "version": "3.10.9"
  }
 },
 "nbformat": 4,
 "nbformat_minor": 5
}
